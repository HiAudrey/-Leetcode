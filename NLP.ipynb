{
 "cells": [
  {
   "cell_type": "code",
   "execution_count": null,
   "metadata": {},
   "outputs": [],
   "source": [
    "import torch\n",
    "import torch.nn as nn\n",
    "from torchtyping import TensorType\n",
    "\n",
    "class Solution:\n",
    "    def get_dataset(self, positive: List[str], negative: List[str]) -> TensorType[float]:\n",
    "        # put strings together so we can process each word later\n",
    "        allStrings = positive + negative\n",
    "        # define a set to store words\n",
    "        words = set()\n",
    "        # process each word from two sentances in the list\n",
    "        # put them in the set \n",
    "        for sentance in allStrings:\n",
    "            for word in sentance.split():\n",
    "                words.add(word)\n",
    "        \n",
    "        # sort words\n",
    "        sortedWords = sort(list(words))\n",
    "        # define a dict to store wordToInt\n",
    "        wordToInt = {}\n",
    "        # replace each word to an integer in order\n",
    "        for index, value in enumerate(sortedWords):\n",
    "            wordToInt(value) = index + 1\n",
    "        \n",
    "        # ???\n",
    "        return nn.utils.rnn.pad_sequence(wordToInt, batch_first = True)"
   ]
  },
  {
   "cell_type": "code",
   "execution_count": 3,
   "metadata": {},
   "outputs": [
    {
     "name": "stdout",
     "output_type": "stream",
     "text": [
      "Requirement already satisfied: torch in /opt/anaconda3/lib/python3.11/site-packages (2.3.0)\n",
      "Requirement already satisfied: filelock in /opt/anaconda3/lib/python3.11/site-packages (from torch) (3.13.1)\n",
      "Requirement already satisfied: typing-extensions>=4.8.0 in /opt/anaconda3/lib/python3.11/site-packages (from torch) (4.11.0)\n",
      "Requirement already satisfied: sympy in /opt/anaconda3/lib/python3.11/site-packages (from torch) (1.12)\n",
      "Requirement already satisfied: networkx in /opt/anaconda3/lib/python3.11/site-packages (from torch) (3.1)\n",
      "Requirement already satisfied: jinja2 in /opt/anaconda3/lib/python3.11/site-packages (from torch) (3.1.3)\n",
      "Requirement already satisfied: fsspec in /opt/anaconda3/lib/python3.11/site-packages (from torch) (2023.10.0)\n",
      "Requirement already satisfied: MarkupSafe>=2.0 in /opt/anaconda3/lib/python3.11/site-packages (from jinja2->torch) (2.1.3)\n",
      "Requirement already satisfied: mpmath>=0.19 in /opt/anaconda3/lib/python3.11/site-packages (from sympy->torch) (1.3.0)\n",
      "Note: you may need to restart the kernel to use updated packages.\n"
     ]
    }
   ],
   "source": [
    "pip install torch"
   ]
  },
  {
   "cell_type": "code",
   "execution_count": 4,
   "metadata": {},
   "outputs": [
    {
     "name": "stdout",
     "output_type": "stream",
     "text": [
      "tensor([[1, 7, 6, 4, 0],\n",
      "        [2, 9, 5, 3, 8]])\n"
     ]
    }
   ],
   "source": [
    "import torch\n",
    "import torch.nn as nn\n",
    "from torchtyping import TensorType\n",
    "\n",
    "def encode_strings(positive, negative):\n",
    "    # First let's get the total set of words\n",
    "    # put strings together so we can process each word later\n",
    "    words = set()\n",
    "    combined = positive + negative\n",
    "    for sentence in combined:\n",
    "        for word in sentence.split():\n",
    "            words.add(word)\n",
    "\n",
    "    # Now let's build a mapping\n",
    "    sorted_list = sorted(list(words))\n",
    "    word_to_int = {}\n",
    "    for i, c in enumerate(sorted_list):\n",
    "        word_to_int[c] = i + 1\n",
    "\n",
    "    # Write encode() which is used to build the dataset\n",
    "    def encode(sentence):\n",
    "        integers = []\n",
    "        for word in sentence.split():\n",
    "            integers.append(word_to_int[word])\n",
    "        return integers\n",
    "    \n",
    "    var_len_tensors = []\n",
    "    for sentence in combined:\n",
    "        var_len_tensors.append(torch.tensor(encode(sentence)))\n",
    "    \n",
    "    return nn.utils.rnn.pad_sequence(var_len_tensors, batch_first=True)\n",
    "\n",
    "# Example usage\n",
    "positive = [\"Dogecoin to the moon\"]\n",
    "negative = [\"I will short Tesla today\"]\n",
    "result = encode_strings(positive, negative)\n",
    "print(result)\n"
   ]
  },
  {
   "cell_type": "code",
   "execution_count": 6,
   "metadata": {},
   "outputs": [
    {
     "name": "stdout",
     "output_type": "stream",
     "text": [
      "tensor([[1, 7, 6, 4, 0],\n",
      "        [2, 9, 5, 3, 8]])\n"
     ]
    }
   ],
   "source": [
    "import torch\n",
    "import torch.nn as nn\n",
    "from torchtyping import TensorType\n",
    "\n",
    "def encode_strings(positive, negative):\n",
    "    # put strings together so we can process each word later\n",
    "    # define a set to store words\n",
    "    words = set()\n",
    "    # process each word from two sentances in the list\n",
    "    # put them in the set \n",
    "    allStrings = positive + negative\n",
    "    for sentence in allStrings:\n",
    "        for word in sentence.split():\n",
    "            words.add(word)\n",
    "\n",
    "    # sort words and convert them to integers in order\n",
    "    sorted_list = sorted(list(words))\n",
    "    wordToInt = {word: i + 1 for i, word in enumerate(sorted_list)}\n",
    "\n",
    "    # define a function to encode sentences\n",
    "    def encode(sentence):\n",
    "        integers = [wordToInt[word] for word in sentence.split()]\n",
    "        return integers\n",
    "    \n",
    "    # Step 4: Encode each sentence and pad the sequences\n",
    "    var_len_tensors = [torch.tensor(encode(sentence)) for sentence in allStrings]\n",
    "    padded_tensors = nn.utils.rnn.pad_sequence(var_len_tensors, batch_first=True)\n",
    "    \n",
    "    return padded_tensors\n",
    "\n",
    "# Example usage\n",
    "positive = [\"Dogecoin to the moon\"]\n",
    "negative = [\"I will short Tesla today\"]\n",
    "result = encode_strings(positive, negative)\n",
    "print(result)\n"
   ]
  },
  {
   "cell_type": "code",
   "execution_count": 7,
   "metadata": {},
   "outputs": [
    {
     "name": "stdout",
     "output_type": "stream",
     "text": [
      "tensor([[1, 7, 6, 4, 0],\n",
      "        [2, 9, 5, 3, 8]])\n"
     ]
    }
   ],
   "source": [
    "import torch\n",
    "import torch.nn as nn\n",
    "\n",
    "def encode_strings(positive, negative):\n",
    "    # Collect all unique words and build a mapping from words to integers\n",
    "    words = set(word for sentence in positive + negative for word in sentence.split())\n",
    "    word_to_int = {word: i + 1 for i, word in enumerate(sorted(words))}\n",
    "\n",
    "    # Encode each sentence and pad the sequences\n",
    "    padded_tensors = nn.utils.rnn.pad_sequence([\n",
    "        torch.tensor([word_to_int[word] for word in sentence.split()])\n",
    "        for sentence in positive + negative\n",
    "    ], batch_first=True)\n",
    "    \n",
    "    return padded_tensors\n",
    "\n",
    "# Example usage\n",
    "positive = [\"Dogecoin to the moon\"]\n",
    "negative = [\"I will short Tesla today\"]\n",
    "result = encode_strings(positive, negative)\n",
    "print(result)\n"
   ]
  },
  {
   "cell_type": "code",
   "execution_count": 8,
   "metadata": {},
   "outputs": [
    {
     "name": "stdout",
     "output_type": "stream",
     "text": [
      "tensor([[ 3, 22,  2, 67,  0,  0,  0,  0,  0,  0,  0,  0,  0,  0,  0,  0,  0,  0,\n",
      "          0,  0,  0],\n",
      "        [ 4, 27, 59, 37,  0,  0,  0,  0,  0,  0,  0,  0,  0,  0,  0,  0,  0,  0,\n",
      "          0,  0,  0],\n",
      "        [12, 42, 35, 30,  0,  0,  0,  0,  0,  0,  0,  0,  0,  0,  0,  0,  0,  0,\n",
      "          0,  0,  0],\n",
      "        [ 7, 73, 19, 10, 52, 47, 32, 61,  0,  0,  0,  0,  0,  0,  0,  0,  0,  0,\n",
      "          0,  0,  0],\n",
      "        [ 5, 55, 27, 18, 51, 72, 31, 16, 20, 64, 53,  0,  0,  0,  0,  0,  0,  0,\n",
      "          0,  0,  0],\n",
      "        [11, 60, 35, 49, 71, 27, 41, 63, 54, 36, 34, 33, 34, 59, 14, 65,  6, 29,\n",
      "         21, 16, 25],\n",
      "        [13, 63, 23, 27, 24, 39, 46, 58,  1, 43,  9,  0,  0,  0,  0,  0,  0,  0,\n",
      "          0,  0,  0],\n",
      "        [ 6, 32, 63, 38, 59, 54, 63, 28, 36, 63, 40, 66, 56, 63, 28, 26, 68,  0,\n",
      "          0,  0,  0],\n",
      "        [ 8, 63, 57,  6, 70, 48, 45,  0,  0,  0,  0,  0,  0,  0,  0,  0,  0,  0,\n",
      "          0,  0,  0],\n",
      "        [15, 16, 69, 50, 44, 17, 62,  0,  0,  0,  0,  0,  0,  0,  0,  0,  0,  0,\n",
      "          0,  0,  0]])\n"
     ]
    }
   ],
   "source": [
    "positive =[\"Good case, Excellent value.\",\"Great for the jawbone.\",\"The mic is great.\",\"If you are Razr owner...you must have this!\",\"Highly recommend for any one who has a blue tooth phone\"]\n",
    "negative =[\"So there is no way for me to plug it in here in the US unless I go buy a converter.\",\"Tied to charger for conversations lasting more than 45 minutes.MAJOR PROBLEMS!!\",\"I have to jiggle the plug to get it to line up right to get decent volume.\",\"Needless to say, I wasted my money.\",\"What a waste of money and time!\"]\n",
    "result = encode_strings(positive, negative)\n",
    "print(result)"
   ]
  }
 ],
 "metadata": {
  "kernelspec": {
   "display_name": "base",
   "language": "python",
   "name": "python3"
  },
  "language_info": {
   "codemirror_mode": {
    "name": "ipython",
    "version": 3
   },
   "file_extension": ".py",
   "mimetype": "text/x-python",
   "name": "python",
   "nbconvert_exporter": "python",
   "pygments_lexer": "ipython3",
   "version": "3.11.7"
  }
 },
 "nbformat": 4,
 "nbformat_minor": 2
}
