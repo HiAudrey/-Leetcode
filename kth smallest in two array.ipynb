{
 "cells": [
  {
   "attachments": {},
   "cell_type": "markdown",
   "metadata": {
    "tags": [
     "table"
    ]
   },
   "source": [
    "# CS5800 - BST\n",
    "1. searching\n",
    "2. insertion\n",
    "3. deleting\n",
    "4. traversals\n",
    "5. successor/predecessor\n",
    "6. Kth smallest key in BST\n"
   ]
  },
  {
   "cell_type": "code",
   "execution_count": 6,
   "metadata": {},
   "outputs": [
    {
     "name": "stdout",
     "output_type": "stream",
     "text": [
      "6\n"
     ]
    }
   ],
   "source": [
    "# HW2- Problem1\n",
    "\n",
    "# Python3 Program to find kth element from two\n",
    "# sorted arrays. Time Complexity: O(log k)\n",
    "def kth(arr1, m, arr2, n, k):\n",
    "\t\n",
    "\tif (k > (m + n) or k < 1):\n",
    "\t\treturn -1\n",
    "\t\n",
    "\t# Let m <= n\n",
    "\tif (m > n):\n",
    "\t\treturn kth(arr2, n, arr1, m, k)\n",
    "\t\n",
    "\t# Check if arr1 is empty returning\n",
    "\t# k-th element of arr2\n",
    "\tif (m == 0):\n",
    "\t\treturn arr2[k - 1]\n",
    "\t\n",
    "\t# Check if k = 1 return minimum of\n",
    "\t# first two elements of both\n",
    "\t# arrays\n",
    "\tif (k == 1):\n",
    "\t\treturn min(arr1[0], arr2[0])\n",
    "\t\t\n",
    "\t# Now the divide and conquer part\n",
    "\ti = min(m, k // 2)\n",
    "\tj = min(n, k // 2)\n",
    "\t\n",
    "\tif (arr1[i - 1] > arr2[j - 1]):\n",
    "\t\t\n",
    "\t\t# Now we need to find only\n",
    "\t\t# k-j th element since we\n",
    "\t\t# have found out the lowest j\n",
    "\t\treturn kth(arr1, m, arr2[j:], n - j, k - j)\n",
    "\telse:\n",
    "\t\t\n",
    "\t\t# Now we need to find only\n",
    "\t\t# k-i th element since we\n",
    "\t\t# have found out the lowest i\n",
    "\t\treturn kth(arr1[i:], m - i, arr2, n, k - i)\n",
    "\n",
    "# Driver code\n",
    "arr1 = [ 2, 3, 6, 7, 9 ]\n",
    "arr2 = [ 1, 4, 8, 10 ]\n",
    "m = len(arr1)\n",
    "n = len(arr2)\n",
    "k = 5\n",
    "\n",
    "ans = kth(arr1, m, arr2, n, k)\n",
    "\n",
    "if (ans == -1):\n",
    "\tprint(\"Invalid query\")\n",
    "else:\n",
    "\tprint(ans)\n",
    "\n",
    "# This code is contributed by Shubham Singh\n"
   ]
  },
  {
   "cell_type": "code",
   "execution_count": 8,
   "metadata": {},
   "outputs": [
    {
     "name": "stdout",
     "output_type": "stream",
     "text": [
      "K-th Smallest Element is 12\n"
     ]
    }
   ],
   "source": [
    "# 6. Kth smallest key in BST\n",
    "# A simple inorder traversal based Python3\n",
    "# program to find k-th smallest element in a BST.\n",
    "\n",
    "# A BST node\n",
    "class newNode:\n",
    "\t\n",
    "\tdef __init__(self, x):\n",
    "\t\t\n",
    "\t\tself.data = x\n",
    "\t\tself.left = None\n",
    "\t\tself.right = None\n",
    "\t\tself.lCount = 0\n",
    "\n",
    "# Recursive function to insert\n",
    "# an key into BST\n",
    "def insert(root, x):\n",
    "\t\n",
    "\tif (root == None):\n",
    "\t\treturn newNode(x)\n",
    "\n",
    "\t# If a node is inserted in left subtree,\n",
    "\t# then lCount of this node is increased.\n",
    "\t# For simplicity, we are assuming that\n",
    "\t# all keys (tried to be inserted) are\n",
    "\t# distinct.\n",
    "\tif (x < root.data):\n",
    "\t\troot.left = insert(root.left, x)\n",
    "\t\troot.lCount += 1\n",
    "\n",
    "\telif (x > root.data):\n",
    "\t\troot.right = insert(root.right, x);\n",
    "\t\t\n",
    "\treturn root\n",
    "\n",
    "# Function to find k'th largest element\n",
    "# in BST. Here count denotes the number\n",
    "# of nodes processed so far\n",
    "def kthSmallest(root, k):\n",
    "\t\n",
    "\t# Base case\n",
    "\tif (root == None):\n",
    "\t\treturn None\n",
    "\t\t\n",
    "\tcount = root.lCount + 1\n",
    "\t\n",
    "\tif (count == k):\n",
    "\t\treturn root\n",
    "\n",
    "\tif (count > k):\n",
    "\t\treturn kthSmallest(root.left, k)\n",
    "\n",
    "\t# Else search in right subtree\n",
    "\treturn kthSmallest(root.right, k - count)\n",
    "\n",
    "# Driver code\n",
    "if __name__ == '__main__':\n",
    "\t\n",
    "\troot = None\n",
    "\tkeys = [ 20, 8, 22, 4, 12, 10, 14 ]\n",
    "\n",
    "\tfor x in keys:\n",
    "\t\troot = insert(root, x)\n",
    "\n",
    "\tk = 4\n",
    "\tres = kthSmallest(root, k)\n",
    "\t\n",
    "\tif (res == None):\n",
    "\t\tprint(\"There are less than k nodes in the BST\")\n",
    "\telse:\n",
    "\t\tprint(\"K-th Smallest Element is\", res.data)\n",
    "\t\t\n",
    "# This code is contributed by bgangwar59\n"
   ]
  },
  {
   "cell_type": "code",
   "execution_count": 11,
   "metadata": {},
   "outputs": [
    {
     "name": "stdout",
     "output_type": "stream",
     "text": [
      "3\n",
      "3\n",
      "0\n",
      "1\n",
      "2\n",
      "4\n",
      "3\n",
      "0\n"
     ]
    }
   ],
   "source": [
    "print(11*3%5)\n",
    "print(11*13%5)\n",
    "print(11*20%5)\n",
    "\n",
    "print(11*21%5)\n",
    "\n",
    "print(11*32%5)\n",
    "\n",
    "print(11*39%5)\n",
    "\n",
    "print(11*43%5)\n",
    "\n",
    "print(11*45%5)\n"
   ]
  },
  {
   "cell_type": "code",
   "execution_count": 12,
   "metadata": {},
   "outputs": [
    {
     "name": "stdout",
     "output_type": "stream",
     "text": [
      "3\n",
      "8\n",
      "10\n",
      "6\n",
      "7\n",
      "9\n",
      "8\n",
      "0\n"
     ]
    }
   ],
   "source": [
    "print(11*3%15)\n",
    "print(11*13%15)\n",
    "print(11*20%15)\n",
    "\n",
    "print(11*21%15)\n",
    "\n",
    "print(11*32%15)\n",
    "\n",
    "print(11*39%15)\n",
    "\n",
    "print(11*43%15)\n",
    "\n",
    "print(11*45%15)"
   ]
  },
  {
   "cell_type": "code",
   "execution_count": 14,
   "metadata": {},
   "outputs": [
    {
     "data": {
      "text/plain": [
       "3"
      ]
     },
     "execution_count": 14,
     "metadata": {},
     "output_type": "execute_result"
    }
   ],
   "source": [
    "7 // 2"
   ]
  },
  {
   "cell_type": "code",
   "execution_count": null,
   "metadata": {},
   "outputs": [],
   "source": [
    "private Node sort(Node head){\n",
    "          if(head == null || head.next == null) return head;\n",
    "          Node slow = head;\n",
    "          Node fast = head;\n",
    "          //取中间节点\n",
    "          while(fast.next != null && fast.next.next != null){\n",
    "              slow = slow.next;\n",
    "              fast = fast.next.next;\n",
    "          }\n",
    "          Node left = head;\n",
    "          Node right = slow.next;\n",
    "          slow.next = null; //split into left and right\n",
    "          left = sort(left);\n",
    "          right = sort(right);\n",
    "          return merge(left,right);\n",
    "      }\n",
    "      private Node merge(Node left, Node right){\n",
    "          //System.out.println(\"left=\"+left.element+\",right=\"+right.element);\n",
    "          Node aux = new Node(); //logn extra space\n",
    "          Node l= left;\n",
    "          Node r = right;\n",
    "          Node current = aux;\n",
    "            while(l != null && r!=null){\n",
    "              int rand = StdRandom.uniform(2);\n",
    "              if(rand == 0){ //select from left\n",
    "                 current.next = l;\n",
    "                 current = current.next;\n",
    "                l= l.next;\n",
    "             }else{ //select from right\n",
    "                current.next = r;\n",
    "                 current = current.next;\n",
    "                 r = r.next;\n",
    "             }\n",
    "        }\n",
    "         if(l!=null) current.next = l; \n",
    "         else if(r != null) current.next = r; \n",
    "        return aux.next; \n",
    "    }"
   ]
  }
 ],
 "metadata": {
  "kernelspec": {
   "display_name": "Python 3",
   "language": "python",
   "name": "python3"
  },
  "language_info": {
   "codemirror_mode": {
    "name": "ipython",
    "version": 3
   },
   "file_extension": ".py",
   "mimetype": "text/x-python",
   "name": "python",
   "nbconvert_exporter": "python",
   "pygments_lexer": "ipython3",
   "version": "3.11.0"
  },
  "orig_nbformat": 4
 },
 "nbformat": 4,
 "nbformat_minor": 2
}
